{
 "cells": [
  {
   "cell_type": "code",
   "execution_count": null,
   "metadata": {},
   "outputs": [],
   "source": [
    "#import sys\n",
    "#!{sys.executable} -m pip install PyAthena"
   ]
  },
  {
   "cell_type": "code",
   "execution_count": null,
   "metadata": {},
   "outputs": [],
   "source": [
    "from pyathena import connect\n",
    "import pandas as pd\n",
    "import numpy as np\n",
    "import re"
   ]
  },
  {
   "cell_type": "code",
   "execution_count": null,
   "metadata": {},
   "outputs": [],
   "source": [
    "conn = connect(s3_staging_dir='s3://chembl-opentargets-43762-3/athena/',\n",
    "               region_name='us-east-1')"
   ]
  },
  {
   "cell_type": "code",
   "execution_count": null,
   "metadata": {},
   "outputs": [],
   "source": [
    "#SELECT COUNT(*)\n",
    "#FROM \"open-targets-1911-dl\".\"association_data\"\n",
    "#WHERE LOWER(target.gene_info.name) LIKE '%tyrosine kinase%' limit 10000; "
   ]
  },
  {
   "cell_type": "code",
   "execution_count": null,
   "metadata": {},
   "outputs": [],
   "source": [
    "chemblTKGeneIdsDF = pd.read_sql('SELECT DISTINCT target.id FROM \"open_targets_1911_dl\".\"association_data\" WHERE LOWER(target.gene_info.name) LIKE \\'%tyrosine kinase%\\'', conn)"
   ]
  },
  {
   "cell_type": "code",
   "execution_count": null,
   "metadata": {},
   "outputs": [],
   "source": [
    "chemblTKGeneIdsDF.describe"
   ]
  },
  {
   "cell_type": "code",
   "execution_count": null,
   "metadata": {},
   "outputs": [],
   "source": [
    "print(\"value=\", chemblTKGeneIdsDF.iloc[3, 0])"
   ]
  },
  {
   "cell_type": "code",
   "execution_count": null,
   "metadata": {},
   "outputs": [],
   "source": [
    "testDF = pd.read_sql('SELECT * FROM \"open_targets_1911_dl\".\"evidence_data\" WHERE target.id=\\''+chemblTKGeneIdsDF.iloc[3,0]+'\\' AND unique_association_fields.datasource=\\'chembl\\'', conn)"
   ]
  },
  {
   "cell_type": "code",
   "execution_count": null,
   "metadata": {},
   "outputs": [],
   "source": [
    "testDF.size"
   ]
  },
  {
   "cell_type": "code",
   "execution_count": null,
   "metadata": {},
   "outputs": [],
   "source": [
    "testEntry=testDF.iloc[0, :]"
   ]
  },
  {
   "cell_type": "code",
   "execution_count": null,
   "metadata": {},
   "outputs": [],
   "source": [
    "type(testEntry)"
   ]
  },
  {
   "cell_type": "code",
   "execution_count": null,
   "metadata": {},
   "outputs": [],
   "source": [
    "testUAF=testEntry['unique_association_fields']"
   ]
  },
  {
   "cell_type": "code",
   "execution_count": null,
   "metadata": {},
   "outputs": [],
   "source": [
    "print(testUAF)"
   ]
  },
  {
   "cell_type": "code",
   "execution_count": null,
   "metadata": {},
   "outputs": [],
   "source": [
    "type(testUAF)"
   ]
  },
  {
   "cell_type": "code",
   "execution_count": null,
   "metadata": {},
   "outputs": [],
   "source": [
    "cmRegex=re.compile('chembl_molecule=http:\\/\\/identifiers\\.org\\/chembl\\.compound\\/([A-Z0-9]+),')"
   ]
  },
  {
   "cell_type": "code",
   "execution_count": null,
   "metadata": {},
   "outputs": [],
   "source": [
    "testMatch=cmRegex.search(testUAF)"
   ]
  },
  {
   "cell_type": "code",
   "execution_count": null,
   "metadata": {},
   "outputs": [],
   "source": [
    "testMatch"
   ]
  },
  {
   "cell_type": "code",
   "execution_count": null,
   "metadata": {},
   "outputs": [],
   "source": [
    "testMatch.group(1)"
   ]
  },
  {
   "cell_type": "code",
   "execution_count": null,
   "metadata": {},
   "outputs": [],
   "source": [
    "testEV=testEntry['evidence']"
   ]
  },
  {
   "cell_type": "code",
   "execution_count": null,
   "metadata": {},
   "outputs": [],
   "source": [
    "type(testEV)"
   ]
  },
  {
   "cell_type": "code",
   "execution_count": null,
   "metadata": {},
   "outputs": [],
   "source": [
    "print(testEV)"
   ]
  },
  {
   "cell_type": "code",
   "execution_count": null,
   "metadata": {},
   "outputs": [],
   "source": [
    "evRegex=re.compile('action_type=([^,]+),')"
   ]
  },
  {
   "cell_type": "code",
   "execution_count": null,
   "metadata": {},
   "outputs": [],
   "source": [
    "evMatch=evRegex.search(testEV)"
   ]
  },
  {
   "cell_type": "code",
   "execution_count": null,
   "metadata": {},
   "outputs": [],
   "source": [
    "evMatch"
   ]
  },
  {
   "cell_type": "code",
   "execution_count": null,
   "metadata": {},
   "outputs": [],
   "source": [
    "evMatch.group(1)"
   ]
  },
  {
   "cell_type": "code",
   "execution_count": null,
   "metadata": {},
   "outputs": [],
   "source": [
    "chemblTKInhibitorIds=[]\n",
    "cti_uniq={}\n",
    "geneId_chemblId_action=[]\n",
    "gca_uniq={}"
   ]
  },
  {
   "cell_type": "code",
   "execution_count": null,
   "metadata": {},
   "outputs": [],
   "source": [
    "# This takes 20 minutes to run (but should blink if properly implemented with pandas)\n",
    "for row_index, row in chemblTKGeneIdsDF.iterrows():\n",
    "    print(row[0])\n",
    "    geneDF = pd.read_sql('SELECT * FROM \"open_targets_1911_dl\".\"evidence_data\" WHERE target.id=\\''+row[0]+'\\' \n",
    "                         'AND unique_association_fields.datasource=\\'chembl\\'', conn)\n",
    "    for ri2, r2 in geneDF.iterrows():\n",
    "        uaf=r2['unique_association_fields']\n",
    "        uaf_match=cmRegex.search(uaf)\n",
    "        chemblId=uaf_match.group(1)\n",
    "        evi=r2['evidence']\n",
    "        ev_match=evRegex.search(evi)\n",
    "        action=ev_match.group(1)\n",
    "        if action=='INHIBITOR':\n",
    "            gca_str=row[0]+' '+chemblId+' '+action\n",
    "            if not gca_str in gca_uniq:\n",
    "                print(gca_str)\n",
    "                gca_uniq[gca_str]=1\n",
    "                t = (row[0], chemblId, action)\n",
    "                geneId_chemblId_action.append(t)\n",
    "            if not chemblId in cti_uniq:\n",
    "                cti_uniq[chemblId]=1\n",
    "                chemblTKInhibitorIds.append(chemblId)"
   ]
  },
  {
   "cell_type": "code",
   "execution_count": null,
   "metadata": {},
   "outputs": [],
   "source": [
    "len(chemblTKInhibitorIds)"
   ]
  },
  {
   "cell_type": "code",
   "execution_count": null,
   "metadata": {},
   "outputs": [],
   "source": [
    "len(geneId_chemblId_action)"
   ]
  },
  {
   "cell_type": "code",
   "execution_count": null,
   "metadata": {},
   "outputs": [],
   "source": [
    "print(chemblTKInhibitorIds)"
   ]
  },
  {
   "cell_type": "code",
   "execution_count": null,
   "metadata": {},
   "outputs": [],
   "source": [
    "testActDF = pd.read_sql('SELECT DISTINCT act.activity_id, \\\n",
    "         pmd.molregno, \\\n",
    "         act.standard_value, \\\n",
    "         act.standard_units, \\\n",
    "         act.standard_type, \\\n",
    "         act.pchembl_value, \\\n",
    "         act.relation, \\\n",
    "         tgd.target_type, \\\n",
    "         tgd.pref_name \\\n",
    "FROM \"chembl_25_dl\".\"chembl_25_public_molecule_dictionary\" pmd, \"chembl_25_dl\".\"chembl_25_public_activities\" act, \"chembl_25_dl\".\"chembl_25_public_assays\" asy, \"chembl_25_dl\".\"chembl_25_public_target_dictionary\" tgd, \"chembl_25_dl\".\"chembl_25_public_compound_properties\" cp \\\n",
    "WHERE pmd.chembl_id=\\'CHEMBL1946170\\' \\\n",
    "        AND pmd.molregno = act.molregno \\\n",
    "        AND cp.molregno = act.molregno \\\n",
    "        AND act.standard_type = \\'IC50\\' \\\n",
    "        AND act.assay_id = asy.assay_id \\\n",
    "        AND asy.tid = tgd.tid \\\n",
    "        AND tgd.pref_name LIKE \\'%kinase%\\' \\\n",
    "        AND act.standard_value IS NOT NULL', conn)"
   ]
  },
  {
   "cell_type": "code",
   "execution_count": null,
   "metadata": {},
   "outputs": [],
   "source": [
    "testActDF"
   ]
  },
  {
   "cell_type": "code",
   "execution_count": null,
   "metadata": {},
   "outputs": [],
   "source": [
    "t2 = pd.DataFrame()                                      "
   ]
  },
  {
   "cell_type": "code",
   "execution_count": null,
   "metadata": {},
   "outputs": [],
   "source": [
    "t2.append(testActDF)"
   ]
  },
  {
   "cell_type": "code",
   "execution_count": null,
   "metadata": {},
   "outputs": [],
   "source": [
    "actDF = pd.DataFrame()"
   ]
  },
  {
   "cell_type": "code",
   "execution_count": null,
   "metadata": {},
   "outputs": [],
   "source": [
    "for id in chemblTKInhibitorIds:\n",
    "    print(id)\n",
    "    query = 'SELECT DISTINCT pmd.chembl_id, \\\n",
    "         pmd.molregno, \\\n",
    "         act.activity_id, \\\n",
    "         act.standard_value, \\\n",
    "         act.standard_units, \\\n",
    "         act.standard_type, \\\n",
    "         act.pchembl_value, \\\n",
    "         tgd.pref_name, \\\n",
    "         cp.mw_freebase, \\\n",
    "         cp.alogp, \\\n",
    "         CAST(cp.hba AS DOUBLE) as hba, \\\n",
    "         CAST(cp.hbd AS DOUBLE) as hbd, \\\n",
    "         cp.psa, \\\n",
    "         CAST(cp.rtb AS DOUBLE) as rtb, \\\n",
    "         cp.ro3_pass, \\\n",
    "         cp.acd_most_apka, \\\n",
    "         cp.acd_most_bpka, \\\n",
    "         cp.acd_logp, \\\n",
    "         cp.acd_logd, \\\n",
    "         cp.molecular_species, \\\n",
    "         cp.full_mwt, \\\n",
    "         CAST(cp.aromatic_rings AS DOUBLE) as aromatic_rings, \\\n",
    "         CAST(cp.heavy_atoms AS DOUBLE) as heavy_atoms, \\\n",
    "         cp.qed_weighted, \\\n",
    "         cp.mw_monoisotopic, \\\n",
    "         cp.full_molformula, \\\n",
    "         CAST(cp.hba_lipinski AS DOUBLE) as hba_lipinski, \\\n",
    "         CAST(cp.hbd_lipinski AS DOUBLE) as hbd_lipinski \\\n",
    "FROM \"chembl_25_dl\".\"chembl_25_public_molecule_dictionary\" pmd, \\\n",
    "\"chembl_25_dl\".\"chembl_25_public_activities\" act, \\\n",
    "\"chembl_25_dl\".\"chembl_25_public_assays\" asy, \\\n",
    "\"chembl_25_dl\".\"chembl_25_public_target_dictionary\" tgd, \\\n",
    "\"chembl_25_dl\".\"chembl_25_public_compound_properties\" cp \\\n",
    "WHERE pmd.chembl_id=\\''+id+'\\' \\\n",
    "        AND pmd.molregno = act.molregno \\\n",
    "        AND cp.molregno = act.molregno \\\n",
    "        AND act.standard_type = \\'IC50\\' \\\n",
    "        AND act.assay_id = asy.assay_id \\\n",
    "        AND asy.tid = tgd.tid \\\n",
    "        AND tgd.pref_name LIKE \\'%kinase%\\' \\\n",
    "        AND act.standard_value IS NOT NULL \\\n",
    "        AND act.relation = \\'=\\' \\\n",
    "        AND tgd.target_type = \\'SINGLE PROTEIN\\''\n",
    "    tmpDF = pd.read_sql(query, conn)\n",
    "    status = tmpDF.describe()\n",
    "    actDF = actDF.append(tmpDF, sort=True)"
   ]
  },
  {
   "cell_type": "code",
   "execution_count": null,
   "metadata": {},
   "outputs": [],
   "source": [
    "actDF"
   ]
  },
  {
   "cell_type": "code",
   "execution_count": null,
   "metadata": {},
   "outputs": [],
   "source": [
    "# From the Chembl \"compound_properties\" table - there are HIVE problems with 2 columns (see below), but the other columns seem OK\n",
    "# -- bad columns: num_ro5_violations, num_lipinski_ro5_violations, but these smallint columns can be selected independently\n",
    "# SELECT molregno, mw_freebase, alogp, hba, hbd, psa, rtb, ro3_pass, acd_most_apka, acd_most_bpka, acd_logp, acd_logd, molecular_species, full_mwt, aromatic_rings, heavy_atoms, qed_weighted, mw_monoisotopic, full_molformula, hba_lipinski, hbd_lipinski FROM \"chembl_25_dl\".\"chembl_25_public_compound_properties\" limit 100;"
   ]
  },
  {
   "cell_type": "code",
   "execution_count": null,
   "metadata": {},
   "outputs": [],
   "source": [
    "import matplotlib.pyplot as plt"
   ]
  },
  {
   "cell_type": "code",
   "execution_count": null,
   "metadata": {},
   "outputs": [],
   "source": [
    "actDF.plot(kind='scatter',x='pchembl_value',y='mw_freebase',color='red')\n",
    "plt.show()"
   ]
  },
  {
   "cell_type": "code",
   "execution_count": null,
   "metadata": {},
   "outputs": [],
   "source": [
    "actDF.plot(kind='scatter',x='pchembl_value',y='alogp',color='red')\n",
    "plt.show()"
   ]
  },
  {
   "cell_type": "code",
   "execution_count": null,
   "metadata": {},
   "outputs": [],
   "source": [
    "actDF.plot(kind='scatter',x='pchembl_value',y='psa',color='red')\n",
    "plt.show()"
   ]
  },
  {
   "cell_type": "code",
   "execution_count": null,
   "metadata": {},
   "outputs": [],
   "source": [
    "actDF.plot(kind='scatter',x='pchembl_value',y='acd_logp',color='red')\n",
    "plt.show()"
   ]
  },
  {
   "cell_type": "code",
   "execution_count": null,
   "metadata": {},
   "outputs": [],
   "source": [
    "actDF.plot(kind='scatter',x='pchembl_value',y='full_mwt',color='red')\n",
    "plt.show()"
   ]
  },
  {
   "cell_type": "code",
   "execution_count": null,
   "metadata": {},
   "outputs": [],
   "source": [
    "actDF.plot(kind='scatter',x='pchembl_value',y='qed_weighted',color='red')\n",
    "plt.show()"
   ]
  },
  {
   "cell_type": "code",
   "execution_count": null,
   "metadata": {},
   "outputs": [],
   "source": [
    "actDF.plot(kind='scatter',x='pchembl_value',y='mw_monoisotopic',color='red')\n",
    "plt.show()"
   ]
  },
  {
   "cell_type": "code",
   "execution_count": null,
   "metadata": {},
   "outputs": [],
   "source": [
    "actDF.plot(kind='scatter',x='pchembl_value',y='aromatic_rings',color='red')\n",
    "plt.show()"
   ]
  },
  {
   "cell_type": "code",
   "execution_count": null,
   "metadata": {},
   "outputs": [],
   "source": [
    "actDF.plot(kind='scatter',x='pchembl_value',y='heavy_atoms',color='red')\n",
    "plt.show()"
   ]
  },
  {
   "cell_type": "code",
   "execution_count": null,
   "metadata": {},
   "outputs": [],
   "source": [
    "actDF.plot(kind='scatter',x='pchembl_value',y='hba',color='red')\n",
    "plt.show()"
   ]
  },
  {
   "cell_type": "code",
   "execution_count": null,
   "metadata": {},
   "outputs": [],
   "source": [
    "actDF.plot(kind='scatter',x='pchembl_value',y='hbd',color='red')\n",
    "plt.show()"
   ]
  },
  {
   "cell_type": "code",
   "execution_count": null,
   "metadata": {},
   "outputs": [],
   "source": [
    "actDF.plot(kind='scatter',x='pchembl_value',y='rtb',color='red')\n",
    "plt.show()"
   ]
  },
  {
   "cell_type": "code",
   "execution_count": null,
   "metadata": {},
   "outputs": [],
   "source": [
    "actDF.plot(kind='scatter',x='pchembl_value',y='hba_lipinski',color='red')\n",
    "plt.show()"
   ]
  },
  {
   "cell_type": "code",
   "execution_count": null,
   "metadata": {},
   "outputs": [],
   "source": [
    "actDF.plot(kind='scatter',x='pchembl_value',y='hbd_lipinski',color='red')\n",
    "plt.show()"
   ]
  },
  {
   "cell_type": "code",
   "execution_count": null,
   "metadata": {},
   "outputs": [],
   "source": []
  }
 ],
 "metadata": {
  "kernelspec": {
   "display_name": "conda_pytorch_p36",
   "language": "python",
   "name": "conda_pytorch_p36"
  },
  "language_info": {
   "codemirror_mode": {
    "name": "ipython",
    "version": 3
   },
   "file_extension": ".py",
   "mimetype": "text/x-python",
   "name": "python",
   "nbconvert_exporter": "python",
   "pygments_lexer": "ipython3",
   "version": "3.6.5"
  }
 },
 "nbformat": 4,
 "nbformat_minor": 4
}
